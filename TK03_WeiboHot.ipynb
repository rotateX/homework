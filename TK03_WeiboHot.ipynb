{
 "cells": [
  {
   "cell_type": "markdown",
   "metadata": {},
   "source": [
    "### 作业03 抓取 微博热点 页面并保存为本地的 HTML 页面"
   ]
  },
  {
   "cell_type": "code",
   "execution_count": 6,
   "metadata": {},
   "outputs": [
    {
     "name": "stdout",
     "output_type": "stream",
     "text": [
      "window.gen_callback && gen_callback({\"retcode\":20000000,\"msg\":\"succ\",\"data\":{\"tid\":\"jLk3jQrtqzigKj7VQ\\/ELADxnUuEy+PbjvFpuoi4NsYo=\",\"new_tid\":true}});\n"
     ]
    }
   ],
   "source": [
    "# -*- coding: utf-8 -*-\n",
    "\n",
    "import requests\n",
    "import re\n",
    "import json\n",
    "\n",
    "url = 'https://passport.weibo.com/visitor/genvisitor'\n",
    "ps_payload = {\n",
    "    'cb': 'gen_callback',\n",
    "    'fp': '{\"os\":\"1\",\"browser\":\"Chrome70,0,3538,25\",\"fonts\":\"undefined\",\"screenInfo\":\"1920*1080*24\",\"plugins\":\"Portable Document Format::internal-pdf-viewer::Chromium PDF Plugin|::mhjfbmdgcfjbbpaeojofohoefgiehjai::Chromium PDF Viewer|::internal-nacl-plugin::Native Client\"}',\n",
    "}\n",
    "\n",
    "ps_req = requests.get(url, params=ps_payload)\n",
    "ps_req.encoding = 'utf8'\n",
    "ps_rep = ps_req.text\n",
    "print(ps_rep)"
   ]
  },
  {
   "cell_type": "code",
   "execution_count": 7,
   "metadata": {},
   "outputs": [
    {
     "name": "stdout",
     "output_type": "stream",
     "text": [
      "ok\n",
      "window.gen_callback && gen_callback({\"retcode\":20000000,\"msg\":\"succ\",\"data\":{\"tid\":\"jLk3jQrtqzigKj7VQ\\/ELADxnUuEy+PbjvFpuoi4NsYo=\",\"new_tid\":true}});\n",
      "{\"retcode\":20000000,\"msg\":\"succ\",\"data\":{\"tid\":\"jLk3jQrtqzigKj7VQ\\/ELADxnUuEy+PbjvFpuoi4NsYo=\",\"new_tid\":true}}\n",
      "<class 'str'>\n",
      "{'retcode': 20000000, 'msg': 'succ', 'data': {'tid': 'jLk3jQrtqzigKj7VQ/ELADxnUuEy+PbjvFpuoi4NsYo=', 'new_tid': True}}\n",
      "<class 'dict'>\n"
     ]
    }
   ],
   "source": [
    "# pattern = r'\\((.+?)\\)'\n",
    "pattern = r'{.*}'\n",
    "if '\"msg\":\"succ\"' in ps_rep:\n",
    "    print('ok')\n",
    "    print(ps_rep)\n",
    "    ps_data = (re.findall(pattern, ps_rep))[0]\n",
    "    print(ps_data)\n",
    "    print(type(ps_data))\n",
    "    ps_data = json.loads(ps_data)\n",
    "    print(ps_data)\n",
    "    print(type(ps_data))\n"
   ]
  },
  {
   "cell_type": "code",
   "execution_count": 8,
   "metadata": {},
   "outputs": [
    {
     "name": "stdout",
     "output_type": "stream",
     "text": [
      "jLk3jQrtqzigKj7VQ/ELADxnUuEy+PbjvFpuoi4NsYo=\n",
      "3\n"
     ]
    }
   ],
   "source": [
    "tid = ps_data['data']['tid']\n",
    "if ps_data['data']['new_tid'] is True:\n",
    "    new_id = 3\n",
    "else:\n",
    "    new_id = 2\n",
    "print(tid)\n",
    "print(new_id)"
   ]
  },
  {
   "cell_type": "code",
   "execution_count": 9,
   "metadata": {},
   "outputs": [],
   "source": [
    "sub_url = 'https://passport.weibo.com/visitor/visitor'\n",
    "sub_payload = {\n",
    "    'a': 'incarnate',\n",
    "    't': tid,\n",
    "    'w': new_id,\n",
    "    'c': 100,\n",
    "    'cb': 'cross_domain',\n",
    "    'from': 'weibo',\n",
    "}\n",
    "sub_req = requests.get(sub_url, params=sub_payload)\n",
    "sub_req.encoding = 'utf8'\n",
    "sub_rep = sub_req.text\n"
   ]
  },
  {
   "cell_type": "code",
   "execution_count": 10,
   "metadata": {},
   "outputs": [
    {
     "name": "stdout",
     "output_type": "stream",
     "text": [
      "ok\n",
      "{\"retcode\":20000000,\"msg\":\"succ\",\"data\":{\"sub\":\"_2AkMqNFmof8NxqwJRmfsTyG7nbotxyQ7EieKcaKhzJRMxHRl-yT83qm4mtRB6AbR3RzdtdZQobLzimFcpYYvd4VSOX177\",\"subp\":\"0033WrSXqPxfM72-Ws9jqgMF55529P9D9WhrfwY9X8_-aZYCal1c-PXU\"}}\n",
      "<class 'dict'>\n"
     ]
    }
   ],
   "source": [
    "if '\"msg\":\"succ\"' in sub_rep:\n",
    "    print('ok')\n",
    "    sub_data = (re.findall(pattern, sub_rep))[0]\n",
    "    print(sub_data)\n",
    "    sub_data = json.loads(sub_data)\n",
    "    print(type(sub_data))\n"
   ]
  },
  {
   "cell_type": "code",
   "execution_count": 14,
   "metadata": {},
   "outputs": [
    {
     "name": "stdout",
     "output_type": "stream",
     "text": [
      "https://weibo.com/a/hot/realtime\n",
      "ok\n"
     ]
    }
   ],
   "source": [
    "SUB = sub_data['data']['sub']\n",
    "SUBP = sub_data['data']['subp']\n",
    "\n",
    "cookie = {\n",
    "    'SUB': SUB,\n",
    "    'SUBP': SUBP,\n",
    "}\n",
    "sub_headers = {\n",
    "    'User-Agent': 'Mozilla/5.0 (Windows NT 10.0; Win64; x64) AppleWebKit/537.36 (KHTML, like Gecko) Chrome/76.0.3809.100 Safari/537.36',\n",
    "}\n",
    "hot_url = 'https://weibo.com/a/hot/realtime'\n",
    "hot_req = requests.get(hot_url, headers=sub_headers, cookies=cookie)\n",
    "hot_req.encoding = 'utf8'\n",
    "print(hot_req.url)\n",
    "if hot_req.status_code == 200:\n",
    "    html_content = hot_req.text\n",
    "    with open('hot.html', 'w+', encoding='utf-8') as f:\n",
    "        f.write(html_content)\n",
    "        print('ok')\n",
    "else:\n",
    "    print('err')"
   ]
  },
  {
   "cell_type": "code",
   "execution_count": null,
   "metadata": {},
   "outputs": [],
   "source": []
  },
  {
   "cell_type": "code",
   "execution_count": null,
   "metadata": {},
   "outputs": [],
   "source": []
  }
 ],
 "metadata": {
  "kernelspec": {
   "display_name": "Python 3",
   "language": "python",
   "name": "python3"
  },
  "language_info": {
   "codemirror_mode": {
    "name": "ipython",
    "version": 3
   },
   "file_extension": ".py",
   "mimetype": "text/x-python",
   "name": "python",
   "nbconvert_exporter": "python",
   "pygments_lexer": "ipython3",
   "version": "3.7.4"
  }
 },
 "nbformat": 4,
 "nbformat_minor": 2
}
