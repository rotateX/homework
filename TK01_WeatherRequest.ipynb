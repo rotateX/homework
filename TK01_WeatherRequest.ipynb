{
 "cells": [
  {
   "cell_type": "code",
   "execution_count": null,
   "metadata": {},
   "outputs": [
    {
     "name": "stdout",
     "output_type": "stream",
     "text": [
      "请输入城市，回车退出：\n",
      "石狮\n",
      "200\n",
      "石狮天气，查询时间2019-08-25 13:08:21\n",
      "\n",
      "25日星期天,大雨,\n",
      "最高温 29℃,最低温 26℃,\n",
      "风力：4-5级,风向：东南风,\n",
      "\n",
      "26日星期一,小雨,\n",
      "最高温 32℃,最低温 26℃,\n",
      "风力：3-4级,风向：南风,\n",
      "\n",
      "27日星期二,多云,\n",
      "最高温 34℃,最低温 26℃,\n",
      "风力：<3级,风向：南风,\n",
      "\n",
      "28日星期三,多云,\n",
      "最高温 35℃,最低温 26℃,\n",
      "风力：<3级,风向：东北风,\n",
      "\n",
      "29日星期四,多云,\n",
      "最高温 35℃,最低温 26℃,\n",
      "风力：3-4级,风向：东风,\n",
      "\n"
     ]
    }
   ],
   "source": [
    "# -*- coding: utf-8 -*-\n",
    "\n",
    "import requests\n",
    "import time\n",
    "import re\n",
    "\n",
    "\n",
    "while True:\n",
    "    city = input('请输入城市，回车退出：\\n')\n",
    "    if '\\u4e00'<= city <= '\\u9fff':\n",
    "        req = requests.get('http://wthrcdn.etouch.cn/weather_mini?city=%s' % city)\n",
    "        req.encoding = 'utf8'\n",
    "        print(req.status_code)\n",
    "        status = req.json()['status']\n",
    "        desc = req.json()['desc']\n",
    "        if status == 1000:\n",
    "            wt_dict = req.json()['data']\n",
    "            cityname = wt_dict['city']\n",
    "            yesterday = wt_dict['yesterday']\n",
    "            forecast = wt_dict['forecast']\n",
    "            ganmao = wt_dict['ganmao']\n",
    "            wendu = wt_dict['wendu']\n",
    "            now = time.strftime(\"%Y-%m-%d %H:%M:%S\", time.localtime())\n",
    "            pattern = r'\\d?[<|-]\\d'\n",
    "            print('%s天气，查询时间%s\\n' % (cityname, now))\n",
    "            for i in forecast:\n",
    "                print(\n",
    "                    '%s,'% i['date'] + '%s,'% i['type'] + '\\n'\n",
    "                    '最%s,'% i['high'] + '最%s,'%i['low'] + '\\n'\n",
    "                    '风力：%s级,'% re.findall(pattern, i['fengli'])[0] + '风向：%s,'% i['fengxiang'] + '\\n'\n",
    "                )\n",
    "        else:\n",
    "            print('查询失败，状态码：%s，' % str(status) + '原因：%s' % desc)\n",
    "    elif not city:\n",
    "        break\n",
    "    else:\n",
    "        print('输入有误')\n"
   ]
  },
  {
   "cell_type": "code",
   "execution_count": null,
   "metadata": {},
   "outputs": [],
   "source": []
  }
 ],
 "metadata": {
  "kernelspec": {
   "display_name": "Python 3",
   "language": "python",
   "name": "python3"
  },
  "language_info": {
   "codemirror_mode": {
    "name": "ipython",
    "version": 3
   },
   "file_extension": ".py",
   "mimetype": "text/x-python",
   "name": "python",
   "nbconvert_exporter": "python",
   "pygments_lexer": "ipython3",
   "version": "3.7.4"
  }
 },
 "nbformat": 4,
 "nbformat_minor": 2
}
