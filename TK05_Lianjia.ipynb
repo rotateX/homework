{
 "cells": [
  {
   "cell_type": "markdown",
   "metadata": {},
   "source": [
    "### 作业05：从页面能得到什么 "
   ]
  },
  {
   "cell_type": "code",
   "execution_count": 6,
   "metadata": {},
   "outputs": [
    {
     "name": "stderr",
     "output_type": "stream",
     "text": [
      "D:\\Anaconda3\\envs\\env_demo\\lib\\site-packages\\urllib3\\connectionpool.py:847: InsecureRequestWarning: Unverified HTTPS request is being made. Adding certificate verification is strongly advised. See: https://urllib3.readthedocs.io/en/latest/advanced-usage.html#ssl-warnings\n",
      "  InsecureRequestWarning)\n"
     ]
    },
    {
     "name": "stdout",
     "output_type": "stream",
     "text": [
      "select_city=310000; expires=Thu, 05-Sep-2019 10:36:38 GMT; Max-Age=86400; path=/; domain=.zufangzi.com, lianjia_ssid=21a1b910-8efc-4c9c-9c61-1f7177d515fb; expires=Wed, 04-Sep-19 11:06:38 GMT; Max-Age=1800; domain=.lianjia.com; path=/, lianjia_uuid=d12e543a-3264-48ef-8383-847393b30a30; expires=Sat, 01-Sep-29 10:36:38 GMT; Max-Age=315360000; domain=.lianjia.com; path=/\n"
     ]
    }
   ],
   "source": [
    "# -*- coding:utf-8 -*-\n",
    "\n",
    "from bs4 import BeautifulSoup\n",
    "import requests\n",
    "import time\n",
    "\n",
    "headers = {\n",
    "    'Accept': 'text/html,application/xhtml+xml,application/xml;q=0.9,image/webp,image/apng,*/*;q=0.8,application/signed-exchange;v=b3',\n",
    "    'Accept-Encoding': 'gzip, deflate, br',\n",
    "    'Accept-Language': 'zh-CN,zh;q=0.9',\n",
    "    'Connection': 'keep-alive',\n",
    "    'Host': 'sh.lianjia.com',\n",
    "    'User-Agent': 'Mozilla/5.0 (Windows NT 10.0; Win64; x64) AppleWebKit/537.36 (KHTML, like Gecko) Chrome/76.0.3809.132 Safari/537.36',\n",
    "}\n",
    "zufang_url = 'https://sh.lianjia.com/zufang/'\n",
    "try:\n",
    "    zufang_req = requests.get(zufang_url, headers=headers)\n",
    "    zufang_req.encoding = 'utf8'\n",
    "    zufang_rep = zufang_req.headers['Set-Cookie']\n",
    "    time.sleep(1)\n",
    "except requests.exceptions.SSLError as err:\n",
    "    zufang_req = requests.get(zufang_url, headers=headers, verify=False)\n",
    "    zufang_req.encoding = 'utf8'\n",
    "    zufang_rep = zufang_req.headers['Set-Cookie']\n",
    "    time.sleep(1)\n",
    "except Exception as errs:\n",
    "    print(errs)\n",
    "print(zufang_rep)"
   ]
  },
  {
   "cell_type": "code",
   "execution_count": null,
   "metadata": {},
   "outputs": [],
   "source": []
  }
 ],
 "metadata": {
  "kernelspec": {
   "display_name": "Python 3",
   "language": "python",
   "name": "python3"
  },
  "language_info": {
   "codemirror_mode": {
    "name": "ipython",
    "version": 3
   },
   "file_extension": ".py",
   "mimetype": "text/x-python",
   "name": "python",
   "nbconvert_exporter": "python",
   "pygments_lexer": "ipython3",
   "version": "3.7.4"
  }
 },
 "nbformat": 4,
 "nbformat_minor": 2
}
