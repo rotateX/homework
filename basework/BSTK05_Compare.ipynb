{
 "cells": [
  {
   "cell_type": "markdown",
   "metadata": {},
   "source": [
    "### 作业05：记录你的成绩 "
   ]
  },
  {
   "cell_type": "code",
   "execution_count": null,
   "metadata": {},
   "outputs": [
    {
     "name": "stdout",
     "output_type": "stream",
     "text": [
      "游戏开始，请输入玩家名：\n",
      "no\n",
      "==========第1回合开始==========\n",
      "正确答案：75\n",
      "猜数字:\n",
      "74\n",
      "不对，请往大了猜。\n",
      "猜数字:\n",
      "75\n",
      "你猜对惹！本回合共猜了2次\n",
      "==========第1回合结束==========\n",
      "再来一回合吗[yes/no]\n",
      "yes\n",
      "==========第2回合开始==========\n",
      "正确答案：81\n",
      "猜数字:\n",
      "\n",
      "请输入数字,游戏重新开始！\n",
      "==========第2回合结束==========\n"
     ]
    }
   ],
   "source": [
    "import random\n",
    "\n",
    "\n",
    "play_round = 1 # 计算游戏回合\n",
    "count_list = [] # 每回合猜次数\n",
    "sign = True\n",
    "# 计算平均值\n",
    "def avg(clist):\n",
    "    sum_count = 0\n",
    "    for i in clist:\n",
    "        sum_count += i\n",
    "    avg_count = sum_count/len(clist)\n",
    "    return avg_count\n",
    "\n",
    "player = input('游戏开始，请输入玩家名：\\n')\n",
    "while sign is True:\n",
    "    correct_num = random.randint(0, 100)\n",
    "    print('==========第%d回合开始==========' % play_round)\n",
    "    print('正确答案：%d'% correct_num)\n",
    "    temp_count = 0  # temp每回合猜的次数\n",
    "    while True:\n",
    "        temp_count += 1\n",
    "        try:\n",
    "            guess_num = int(input('猜数字:\\n'))\n",
    "            if guess_num == correct_num:\n",
    "                print('你猜对惹！本回合共猜了%d次' % temp_count)\n",
    "                break\n",
    "            elif guess_num > correct_num:\n",
    "                print('不对，请往小了猜。')\n",
    "\n",
    "            elif guess_num < correct_num:\n",
    "                print('不对，请往大了猜。')\n",
    "            \n",
    "        except ValueError as verr:\n",
    "            print('请输入数字,游戏重新开始！')\n",
    "            break\n",
    "    count_list.append(temp_count)\n",
    "    print('==========第%d回合结束==========' % play_round)\n",
    "    play = input('再来一回合吗[yes/no]\\n')\n",
    "#     print(count_list)\n",
    "    if play == 'yes':\n",
    "        play_round += 1\n",
    "        sign = True\n",
    "    else:\n",
    "        min_count = min(count_list)\n",
    "        sum_count = avg(count_list)\n",
    "        \n",
    "        with open('%splayrecord.txt' % player, 'a+', encoding='utf-8') as f:\n",
    "            f.write('玩家：' + player + '\\n')\n",
    "            f.write('总共玩了%d回合，最快%d次猜出正确答案，平均%d猜出\\n' % (play_round, min_count, sum_count))\n",
    "        print('游戏结束！')\n",
    "        print('总共玩了%d回合，最快%d次猜出正确答案，平均%d猜出\\n' % (play_round, min_count, sum_count))\n",
    "        sign = False"
   ]
  },
  {
   "cell_type": "code",
   "execution_count": null,
   "metadata": {},
   "outputs": [],
   "source": []
  }
 ],
 "metadata": {
  "kernelspec": {
   "display_name": "Python 3",
   "language": "python",
   "name": "python3"
  },
  "language_info": {
   "codemirror_mode": {
    "name": "ipython",
    "version": 3
   },
   "file_extension": ".py",
   "mimetype": "text/x-python",
   "name": "python",
   "nbconvert_exporter": "python",
   "pygments_lexer": "ipython3",
   "version": "3.7.3"
  }
 },
 "nbformat": 4,
 "nbformat_minor": 2
}
