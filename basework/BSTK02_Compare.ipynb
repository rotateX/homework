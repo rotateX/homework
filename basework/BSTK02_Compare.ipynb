{
 "cells": [
  {
   "cell_type": "markdown",
   "metadata": {},
   "source": [
    "## 基础作业02：和程序比比大小 "
   ]
  },
  {
   "cell_type": "code",
   "execution_count": 7,
   "metadata": {},
   "outputs": [
    {
     "name": "stdout",
     "output_type": "stream",
     "text": [
      "==========第1回合==========\n",
      "猜数字:\n",
      "78\n",
      "不对，请往小了猜。\n",
      "猜数字:\n",
      "44\n",
      "不对，请往小了猜。\n",
      "猜数字:\n",
      "22\n",
      "还是不对，回合结束，正确值29\n",
      "再来一回合吗[yes/no]\n",
      "yes\n",
      "==========第2回合==========\n",
      "猜数字:\n",
      "33\n",
      "不对，请往小了猜。\n",
      "猜数字:\n",
      "12\n",
      "不对，请往大了猜。\n",
      "猜数字:\n",
      "25\n",
      "还是不对，回合结束，正确值29\n",
      "再来一回合吗[yes/no]\n",
      "no\n"
     ]
    }
   ],
   "source": [
    "import random\n",
    "\n",
    "correct_num = random.randint(0, 100)\n",
    "count = 3  # 每回合猜的次数\n",
    "play_round = 1 # 计算游戏回合\n",
    "sign = True\n",
    "# print(correct_num)\n",
    "while sign is True:\n",
    "    print('==========第%d回合==========' % play_round)\n",
    "    for i in range(0, count):\n",
    "        try:\n",
    "            guess_num = int(input('猜数字:\\n'))\n",
    "            if guess_num == correct_num and i<=2:\n",
    "                print('你猜对惹！')\n",
    "\n",
    "            elif guess_num != correct_num and i==2:\n",
    "                print('还是不对，回合结束，正确值%s' % correct_num)\n",
    "\n",
    "            elif guess_num > correct_num:\n",
    "                print('不对，请往小了猜。')\n",
    "\n",
    "            else:\n",
    "                print('不对，请往大了猜。')\n",
    "        except ValueError as verr:\n",
    "            print('请输入数字！')\n",
    "            continue\n",
    "    play = input('再来一回合吗[yes/no]\\n')\n",
    "    if play == 'yes':\n",
    "        play_round += 1\n",
    "        sign = True\n",
    "    else:\n",
    "        sign = False\n",
    "\n",
    "        "
   ]
  },
  {
   "cell_type": "code",
   "execution_count": null,
   "metadata": {},
   "outputs": [],
   "source": []
  }
 ],
 "metadata": {
  "kernelspec": {
   "display_name": "Python 3",
   "language": "python",
   "name": "python3"
  },
  "language_info": {
   "codemirror_mode": {
    "name": "ipython",
    "version": 3
   },
   "file_extension": ".py",
   "mimetype": "text/x-python",
   "name": "python",
   "nbconvert_exporter": "python",
   "pygments_lexer": "ipython3",
   "version": "3.7.4"
  }
 },
 "nbformat": 4,
 "nbformat_minor": 2
}
