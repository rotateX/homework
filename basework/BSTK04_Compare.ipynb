{
 "cells": [
  {
   "cell_type": "markdown",
   "metadata": {},
   "source": [
    "### 基础作业04：只来一局不过瘾"
   ]
  },
  {
   "cell_type": "code",
   "execution_count": 3,
   "metadata": {},
   "outputs": [
    {
     "name": "stdout",
     "output_type": "stream",
     "text": [
      "==========第1回合==========\n",
      "猜数字:\n",
      "55\n",
      "不对，请往大了猜。\n",
      "猜数字:\n",
      "88\n",
      "不对，请往小了猜。\n",
      "猜数字:\n",
      "66\n",
      "不对，请往大了猜。\n",
      "猜数字:\n",
      "77\n",
      "不对，请往大了猜。\n",
      "猜数字:\n",
      "79\n",
      "不对，请往大了猜。\n",
      "猜数字:\n",
      "83\n",
      "不对，请往小了猜。\n",
      "猜数字:\n",
      "81\n",
      "不对，请往小了猜。\n",
      "猜数字:\n",
      "82\n",
      "不对，请往小了猜。\n",
      "猜数字:\n",
      "80\n",
      "你猜对惹！本回合共猜了9次\n",
      "再来一回合吗[yes/no]\n",
      "\n"
     ]
    }
   ],
   "source": [
    "import random\n",
    "\n",
    "correct_num = random.randint(0, 100)\n",
    "\n",
    "play_round = 1 # 计算游戏回合\n",
    "sign = True\n",
    "# print(correct_num)\n",
    "while sign is True:\n",
    "    print('==========第%d回合==========' % play_round)\n",
    "    count = 0  # 每回合猜的次数\n",
    "    while True:\n",
    "        count += 1\n",
    "        try:\n",
    "            guess_num = int(input('猜数字:\\n'))\n",
    "            if guess_num == correct_num:\n",
    "                print('你猜对惹！本回合共猜了%d次' % count)\n",
    "                break\n",
    "\n",
    "            elif guess_num > correct_num:\n",
    "                print('不对，请往小了猜。')\n",
    "\n",
    "            elif guess_num < correct_num:\n",
    "                print('不对，请往大了猜。')\n",
    "            \n",
    "        except ValueError as verr:\n",
    "            print('请输入数字,游戏重新开始！')\n",
    "            break\n",
    "    play = input('再来一回合吗[yes/no]\\n')\n",
    "    if play == 'yes':\n",
    "        play_round += 1\n",
    "        sign = True\n",
    "    else:\n",
    "        sign = False"
   ]
  },
  {
   "cell_type": "code",
   "execution_count": null,
   "metadata": {},
   "outputs": [],
   "source": []
  }
 ],
 "metadata": {
  "kernelspec": {
   "display_name": "Python 3",
   "language": "python",
   "name": "python3"
  },
  "language_info": {
   "codemirror_mode": {
    "name": "ipython",
    "version": 3
   },
   "file_extension": ".py",
   "mimetype": "text/x-python",
   "name": "python",
   "nbconvert_exporter": "python",
   "pygments_lexer": "ipython3",
   "version": "3.7.4"
  }
 },
 "nbformat": 4,
 "nbformat_minor": 2
}
