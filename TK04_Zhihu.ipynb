{
 "cells": [
  {
   "cell_type": "markdown",
   "metadata": {},
   "source": [
    "### 作业04：知乎时间线，从In [172] 开始看"
   ]
  },
  {
   "cell_type": "code",
   "execution_count": 109,
   "metadata": {},
   "outputs": [
    {
     "name": "stdout",
     "output_type": "stream",
     "text": [
      "<class 'str'>\n",
      "tgw_l7_route=a37704a413efa26cf3f23813004f1a3b; Expires=Tue, 03-Sep-2019 06:48:43 GMT; Path=/, _zap=fe7b3ae5-570c-4a79-9a4e-cea35afe9869; path=/; expires=Thu, 02 Sep 2021 06:33:43 GMT; domain=.zhihu.com, _xsrf=22ebc516-2d7b-4224-ade8-0c4326f02dea; path=/; domain=.zhihu.com\n"
     ]
    }
   ],
   "source": [
    "# -*- coding:utf-8 -*-\n",
    "\n",
    "import requests\n",
    "import json\n",
    "\n",
    "url = 'https://www.zhihu.com/signin?next=%2F'\n",
    "\n",
    "headers = {\n",
    "    'User-Agent': 'Mozilla/5.0 (Windows NT 6.1; Win64; x64) AppleWebKit/537.36 (KHTML, like Gecko) Chrome/76.0.3809.132 Safari/537.36',\n",
    "    'Accept-Language': 'zh-CN,zh;q=0.9,en;q=0.8',\n",
    "    'Accept': 'text/html,application/xhtml+xml,application/xml;q=0.9,image/webp,image/apng,*/*;q=0.8,application/signed-exchange;v=b3',\n",
    "    'Accept-Encoding': 'gzip, deflate, br',\n",
    "}\n",
    "\n",
    "# def req_url(url, headers=headers):\n",
    "#     try:\n",
    "#         req = requests.get(url, headers=headers)\n",
    "#         req.encoding = 'utf8'\n",
    "#         return req\n",
    "#     except requests.exceptions.SSLError as err:\n",
    "#         req = requests.get(url, headers=headers, verify=False)\n",
    "#         req.encoding = 'utf8'\n",
    "#         return req\n",
    "#     except Exceptions as err:\n",
    "#         print(err)\n",
    "        \n",
    "try:\n",
    "    req = requests.get(url, headers=headers)\n",
    "    req.encoding = 'utf8'\n",
    "except requests.exceptions.SSLError as err:\n",
    "    req = requests.get(url, headers=headers, verify=False)\n",
    "    req.encoding = 'utf8'\n",
    "except Exceptions as err:\n",
    "    print(err)\n",
    "if req.status_code == 200 and req.headers['Set-Cookie']:\n",
    "    cookie = req.headers['Set-Cookie']    \n",
    "\n",
    "print(type(cookie))\n",
    "print(cookie)\n",
    "\n"
   ]
  },
  {
   "cell_type": "code",
   "execution_count": 110,
   "metadata": {
    "scrolled": false
   },
   "outputs": [
    {
     "name": "stdout",
     "output_type": "stream",
     "text": [
      "d_c0=\"ANDgjcCI_Q-PTjQMdUI6M5g6x7MtzhCeI2A=|1567492429\"\n"
     ]
    }
   ],
   "source": [
    "# print(type(cookie))\n",
    "\n",
    "# 处理返回的Set-Cookie内容 \n",
    "cookie1= cookie.replace(',', ';').split(';')\n",
    "cookies = {}\n",
    "def setcookie(str):\n",
    "    keyword = ['tgw_l7_route', '_zap', '_xsrf', 'd_c0', 'capsion_ticket']\n",
    "    for c in str:\n",
    "        for k in keyword:\n",
    "            if k in c:\n",
    "                cookies[c.replace(' ', '').split('=', 1)[0]] = c.replace(' ', '').split('=')[1]\n",
    "    return cookies\n",
    "# print(cookies)\n",
    "udid_cookies = setcookie(cookie1)\n",
    "# print(udid_cookies)\n",
    "udid_url = 'https://www.zhihu.com/udid'\n",
    "# udid_req = req_url(udid_url)\n",
    "\n",
    "try:\n",
    "    udid_req = requests.post(udid_url, headers=headers, cookies=udid_cookies)\n",
    "    udid_req.encoding = 'utf8'\n",
    "#     print(udid_req.content)\n",
    "except requests.exceptions.SSLError as err:\n",
    "    udid_req = requests.post(udid_url, headers=headers, cookies=udid_cookies, verify=False)\n",
    "    udid_req.encoding = 'utf8'\n",
    "#     print(udid_req.content)\n",
    "setcookie(udid_req.headers['Set-Cookie'])\n",
    "\n",
    "cookie3 = (udid_req.headers['Set-Cookie'].replace(',', ';').split(';'))[0]\n",
    "print(cookie3)\n"
   ]
  },
  {
   "cell_type": "code",
   "execution_count": 111,
   "metadata": {},
   "outputs": [
    {
     "name": "stdout",
     "output_type": "stream",
     "text": [
      "{'tgw_l7_route': 'a37704a413efa26cf3f23813004f1a3b', '_zap': 'fe7b3ae5-570c-4a79-9a4e-cea35afe9869', '_xsrf': '22ebc516-2d7b-4224-ade8-0c4326f02dea', 'd_c0': '\"ANDgjcCI_Q-PTjQMdUI6M5g6x7MtzhCeI2A=|1567492429\"'}\n"
     ]
    }
   ],
   "source": [
    "cookies[cookie3.split('=', 1)[0]] = cookie3.split('=', 1)[1]\n",
    "print(cookies)"
   ]
  },
  {
   "cell_type": "code",
   "execution_count": 132,
   "metadata": {},
   "outputs": [
    {
     "name": "stdout",
     "output_type": "stream",
     "text": [
      "capsion_ticket=\"2|1:0|10:1567496771|14:capsion_ticket|44:MDA3ODMzYjRlMDM3NGFiZjg1ZDA5MWI0ZThiNDY1NDc=|3c65253def2a8b25d8a495cc2ae15efd919267e2fbac10521596e2e45078f700\"; Domain=zhihu.com; expires=Thu, 03 Oct 2019 07:46:11 GMT; httponly; Path=/\n"
     ]
    }
   ],
   "source": [
    "cap_url = 'https://www.zhihu.com/api/v3/oauth/captcha?lang=cn'\n",
    "try:\n",
    "    cap_req = requests.get(cap_url, headers=headers, cookies=cookies)\n",
    "    cap_req.encoding = 'utf8'\n",
    "#     print(udid_req.content)\n",
    "except requests.exceptions.SSLError as err:\n",
    "    cap_req = requests.get(cap_url, headers=headers, cookies=cookies, verify=False)\n",
    "    cap_req.encoding = 'utf8'\n",
    "#     print(udid_req.content)\n",
    "print(cap_req.headers['Set-Cookie'])"
   ]
  },
  {
   "cell_type": "code",
   "execution_count": 133,
   "metadata": {},
   "outputs": [
    {
     "name": "stdout",
     "output_type": "stream",
     "text": [
      "capsion_ticket=\"2|1:0|10:1567496771|14:capsion_ticket|44:MDA3ODMzYjRlMDM3NGFiZjg1ZDA5MWI0ZThiNDY1NDc=|3c65253def2a8b25d8a495cc2ae15efd919267e2fbac10521596e2e45078f700\"\n"
     ]
    }
   ],
   "source": [
    "capsion = (cap_req.headers['Set-Cookie'].replace(',', ';').split(';'))[0]\n",
    "print(capsion)"
   ]
  },
  {
   "cell_type": "code",
   "execution_count": 134,
   "metadata": {},
   "outputs": [
    {
     "name": "stdout",
     "output_type": "stream",
     "text": [
      "{'tgw_l7_route': 'a37704a413efa26cf3f23813004f1a3b', '_zap': 'fe7b3ae5-570c-4a79-9a4e-cea35afe9869', '_xsrf': '22ebc516-2d7b-4224-ade8-0c4326f02dea', 'd_c0': '\"ANDgjcCI_Q-PTjQMdUI6M5g6x7MtzhCeI2A=|1567492429\"', 'capsion_ticket': '\"2|1:0|10:1567496771|14:capsion_ticket|44:MDA3ODMzYjRlMDM3NGFiZjg1ZDA5MWI0ZThiNDY1NDc=|3c65253def2a8b25d8a495cc2ae15efd919267e2fbac10521596e2e45078f700\"'}\n"
     ]
    }
   ],
   "source": [
    "cookies[capsion.split('=', 1)[0]] = capsion.split('=', 1)[1]\n",
    "print(cookies)"
   ]
  },
  {
   "cell_type": "markdown",
   "metadata": {},
   "source": [
    "### 从这里开始看 "
   ]
  },
  {
   "cell_type": "code",
   "execution_count": 184,
   "metadata": {
    "scrolled": true
   },
   "outputs": [
    {
     "name": "stderr",
     "output_type": "stream",
     "text": [
      "D:\\Anaconda3\\envs\\env_demo\\lib\\site-packages\\urllib3\\connectionpool.py:847: InsecureRequestWarning: Unverified HTTPS request is being made. Adding certificate verification is strongly advised. See: https://urllib3.readthedocs.io/en/latest/advanced-usage.html#ssl-warnings\n",
      "  InsecureRequestWarning)\n"
     ]
    },
    {
     "name": "stdout",
     "output_type": "stream",
     "text": [
      "ok\n",
      "ok\n",
      "ok\n",
      "ok\n",
      "ok\n",
      "ok\n"
     ]
    },
    {
     "name": "stderr",
     "output_type": "stream",
     "text": [
      "D:\\Anaconda3\\envs\\env_demo\\lib\\site-packages\\urllib3\\connectionpool.py:847: InsecureRequestWarning: Unverified HTTPS request is being made. Adding certificate verification is strongly advised. See: https://urllib3.readthedocs.io/en/latest/advanced-usage.html#ssl-warnings\n",
      "  InsecureRequestWarning)\n"
     ]
    },
    {
     "name": "stdout",
     "output_type": "stream",
     "text": [
      "ok\n",
      "ok\n",
      "ok\n",
      "ok\n",
      "ok\n",
      "ok\n"
     ]
    },
    {
     "name": "stderr",
     "output_type": "stream",
     "text": [
      "D:\\Anaconda3\\envs\\env_demo\\lib\\site-packages\\urllib3\\connectionpool.py:847: InsecureRequestWarning: Unverified HTTPS request is being made. Adding certificate verification is strongly advised. See: https://urllib3.readthedocs.io/en/latest/advanced-usage.html#ssl-warnings\n",
      "  InsecureRequestWarning)\n"
     ]
    },
    {
     "name": "stdout",
     "output_type": "stream",
     "text": [
      "ok\n",
      "ok\n",
      "ok\n",
      "ok\n",
      "ok\n",
      "ok\n",
      "finished\n"
     ]
    }
   ],
   "source": [
    "import time\n",
    "import csv\n",
    "import re\n",
    "\n",
    "cookies1 = {\n",
    "    '_xsrf': '6n9QobXSmrmshEtEAA2zzTRu5e1sZ3tz',\n",
    "    '_zap': '7e8a757b-e479-4249-8efb-441c22466bd2',\n",
    "    'cap_id': '\"NjVlNDkwODcxYmNlNDQyODhkYzU1YThhYjczNjc5NDc=|1567496295|d96f9fbcf0fb4823bbfac5e8025630fcb265366f\"',\n",
    "    'capsion_ticket': '\"2|1:0|10:1567496824|14:capsion_ticket|44:MGMyZmNhMDc2NjRlNDJmMWJlMGQzMmEzNjU5OTA4MWQ=|fba5b305d871983576f628dd36a53e7eef81caf22e51c1bc2967cf21253295bb\"',\n",
    "    'd_c0': '\"AJBj-oCX_Q-PTuX0FeBM6a_WulSXXr7O2oY=|1567496296\"',\n",
    "    'l_cap_id': '\"ZTQ1ODE0YWIzYjljNGEwNThhZDEwZWU2Yjg4ZjQ4MWI=|1567496295|312e620286ab0e6c68602261893dac9f101dc002\"',\n",
    "    'r_cap_id': '\"ODdkZmFiY2ZjMmM1NDZjOWI3MjgxNWU1MWM2NzVjMzk=|1567496295|b971f4bea6455a2a991a5660395dff2b2ef79613\"',\n",
    "    'tgw_l7_route': '060f637cd101836814f6c53316f73463',\n",
    "    'z_c0': '\"2|1:0|10:1567496826|4:z_c0|92:Mi4xNDlhR0FBQUFBQUFBa0dQNmdKZjlEeVlBQUFCZ0FsVk5lbWhiWGdCd0RQRTZCQlNtdFk4dC1ocy1CRkpFbUZaMzJB|4b9ad95a54a3e142ce90f1c2b39cb6a14f3afc85f04faadb189c00623aac7d3c\"',\n",
    "}\n",
    "\n",
    "csv_header = ['问题ID', '问题名称', '回答数', '回答者', '内容', '回答评论数', '感谢数']\n",
    "date = time.strftime(\"%Y%m%d\", time.localtime())\n",
    "pattern = r'<.*?>'\n",
    "\n",
    "\n",
    "with open('%s.csv' % date, 'w+', newline='', encoding='utf_8_sig') as f: # encoding='utf_8_sig' 处理保存出现乱码问题\n",
    "    f_csv = csv.writer(f)\n",
    "    f_csv.writerow(csv_header)\n",
    "    # page_number:2-4\n",
    "    for i in range(2, 5):\n",
    "        topstory_url = 'https://www.zhihu.com/api/v3/feed/topstory/recommend?session_token=a236d040f842540593a4263463324ada&desktop=true&page_number=%d&limit=6&action=down&after_id=%d' % (i, 6*1-7)\n",
    "        try:\n",
    "            topstory_req = requests.get(topstory_url, headers=headers, cookies=cookies1)\n",
    "            topstory_req.encoding = 'utf8'\n",
    "            rep = topstory_req.json()\n",
    "            time.sleep(1)\n",
    "        except requests.exceptions.SSLError as err:\n",
    "            topstory_req = requests.get(topstory_url, headers=headers, cookies=cookies1, verify=False)\n",
    "            topstory_req.encoding = 'utf8'\n",
    "            rep = topstory_req.json()\n",
    "            time.sleep(1)\n",
    "        except Exception as errs:\n",
    "            print(errs)\n",
    "#         print(rep)\n",
    "        if topstory_req.status_code == 200 and rep['data']:\n",
    "            datas = rep['data']\n",
    "#             print(type(data))\n",
    "            for data in datas:\n",
    "                try:\n",
    "                    q_id = data.get('id')\n",
    "    #                 print(q_id)\n",
    "                    title = data.get('target').get('question').get('title')\n",
    "                    answer_count = data.get('target').get('question').get('answer_count')\n",
    "                    name = data.get('target').get('question').get('author').get('name')\n",
    "                    content = re.sub(r'<.*?>','',data.get('target').get('content'))\n",
    "                    comment_count = data.get('target').get('comment_count')\n",
    "                    thanks_count = data.get('target').get('thanks_count')               \n",
    "                    row = [q_id, title, answer_count, name, content, comment_count, thanks_count]\n",
    "                    f_csv.writerow(row)\n",
    "                    print('ok')\n",
    "                except Exception as geterr:\n",
    "                    print(geterr)\n",
    "#             time.sleep(1)\n",
    "        else:\n",
    "            print(topstory_req.text)\n",
    "    print('finished')\n"
   ]
  },
  {
   "cell_type": "code",
   "execution_count": null,
   "metadata": {},
   "outputs": [],
   "source": []
  }
 ],
 "metadata": {
  "kernelspec": {
   "display_name": "Python 3",
   "language": "python",
   "name": "python3"
  },
  "language_info": {
   "codemirror_mode": {
    "name": "ipython",
    "version": 3
   },
   "file_extension": ".py",
   "mimetype": "text/x-python",
   "name": "python",
   "nbconvert_exporter": "python",
   "pygments_lexer": "ipython3",
   "version": "3.7.4"
  }
 },
 "nbformat": 4,
 "nbformat_minor": 2
}
