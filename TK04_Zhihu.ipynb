{
 "cells": [
  {
   "cell_type": "code",
   "execution_count": 2,
   "metadata": {},
   "outputs": [
    {
     "name": "stdout",
     "output_type": "stream",
     "text": [
      "<class 'str'>\n",
      "tgw_l7_route=7bacb9af7224ed68945ce419f4dea76d; Expires=Sun, 01-Sep-2019 13:39:37 GMT; Path=/, _zap=b669786b-184d-4dcb-86bd-44edd64c77df; path=/; expires=Tue, 31 Aug 2021 13:24:37 GMT; domain=.zhihu.com, _xsrf=a3fd4094-d1f6-4455-b8f5-5c6c40a4865d; path=/; domain=.zhihu.com\n"
     ]
    }
   ],
   "source": [
    "# -*- coding:utf-8 -*-\n",
    "\n",
    "import requests\n",
    "import json\n",
    "url = 'https://www.zhihu.com/signin?next=%2F'\n",
    "headers = {\n",
    "    'User-Agent': 'Mozilla/5.0 (Windows NT 6.1; Win64; x64) AppleWebKit/537.36 (KHTML, like Gecko) Chrome/76.0.3809.132 Safari/537.36',\n",
    "    'Accept-Language': 'zh-CN,zh;q=0.9,en;q=0.8',\n",
    "    'Accept': 'text/html,application/xhtml+xml,application/xml;q=0.9,image/webp,image/apng,*/*;q=0.8,application/signed-exchange;v=b3',\n",
    "    'Accept-Encoding': 'gzip, deflate, br',\n",
    "}\n",
    "try:\n",
    "    req = requests.get(url, headers=headers)\n",
    "    req.encoding = 'utf8'\n",
    "#     print(req.headers)\n",
    "except requests.exceptions.SSLError as err:\n",
    "    print(err)\n",
    "    req = requests.get(url, headers=headers, verify=False)\n",
    "    req.encoding = 'utf8'\n",
    "#     print(req.headers)\n",
    "if req.status_code == 200 and req.headers['Set-Cookie']:\n",
    "    cookie = req.headers['Set-Cookie']\n",
    "print(type(cookie))\n",
    "print(cookie)\n",
    "\n"
   ]
  },
  {
   "cell_type": "code",
   "execution_count": 12,
   "metadata": {
    "scrolled": false
   },
   "outputs": [
    {
     "name": "stdout",
     "output_type": "stream",
     "text": [
      "tgw_l7_route=7bacb9af7224ed68945ce419f4dea76d\n",
      " Expires=Sun, 01-Sep-2019 13:39:37 GMT\n",
      " Path=/, _zap=b669786b-184d-4dcb-86bd-44edd64c77df\n",
      " path=/\n",
      " expires=Tue, 31 Aug 2021 13:24:37 GMT\n",
      " domain=.zhihu.com, _xsrf=a3fd4094-d1f6-4455-b8f5-5c6c40a4865d\n",
      " path=/\n",
      " domain=.zhihu.com\n"
     ]
    }
   ],
   "source": [
    "# print(type(cookie))\n",
    "\n",
    "cookie1 = cookie.split(';')\n",
    "for i in cookie1:\n",
    "    i.lstrip()\n",
    "    print(i)\n",
    "# print(cookie)\n",
    "# print(type(cookie))\n",
    "# udid_url = 'https://www.zhihu.com/udid'\n",
    "# try:\n",
    "#     udid_req = requests.post(url, headers=headers, cookies=cookie)\n",
    "#     print(udid_req.headers)\n",
    "# except Exception as udid_err:\n",
    "#     print('err：' + str(udid_err))"
   ]
  },
  {
   "cell_type": "code",
   "execution_count": null,
   "metadata": {},
   "outputs": [],
   "source": []
  },
  {
   "cell_type": "code",
   "execution_count": null,
   "metadata": {},
   "outputs": [],
   "source": []
  }
 ],
 "metadata": {
  "kernelspec": {
   "display_name": "Python 3",
   "language": "python",
   "name": "python3"
  },
  "language_info": {
   "codemirror_mode": {
    "name": "ipython",
    "version": 3
   },
   "file_extension": ".py",
   "mimetype": "text/x-python",
   "name": "python",
   "nbconvert_exporter": "python",
   "pygments_lexer": "ipython3",
   "version": "3.7.4"
  }
 },
 "nbformat": 4,
 "nbformat_minor": 2
}
